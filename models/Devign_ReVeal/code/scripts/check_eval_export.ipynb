{
 "cells": [
  {
   "cell_type": "code",
   "execution_count": null,
   "metadata": {},
   "outputs": [
    {
     "ename": "",
     "evalue": "",
     "output_type": "error",
     "traceback": [
      "\u001b[1;31mRunning cells with 'Python 3.7.7 ('Devign37')' requires ipykernel package.\n",
      "Run the following command to install 'ipykernel' into the Python environment. \n",
      "Command: 'conda install -n Devign37 ipykernel --update-deps --force-reinstall'"
     ]
    }
   ],
   "source": [
    "import json\n",
    "\n",
    "data_dir = \"data/line_ggnn/devign\"\n",
    "for split_dir in sorted(data_dir.glob(\"v*\"), key=lambda fp: fp.name):\n",
    "    print(split_dir)\n",
    "    labels = []\n",
    "    for model in []:\n",
    "        with open(split_dir / f\"eval_export_{model}.json\") as f:\n",
    "            eval_export = json.load(f)\n",
    "        print(model)\n",
    "        print(len(eval_export))\n",
    "        labels.append([d[\"label\"] for d in eval_export])\n",
    "    assert labels[0] == labels[1]\n",
    "    assert labels[1] == labels[2]"
   ]
  }
 ],
 "metadata": {
  "kernelspec": {
   "display_name": "Python 3.7.7 ('Devign37')",
   "language": "python",
   "name": "python3"
  },
  "language_info": {
   "name": "python",
   "version": "3.7.7"
  },
  "orig_nbformat": 4,
  "vscode": {
   "interpreter": {
    "hash": "73d1c6241bee4b342816ad4a6fcb35e846e784f94c54232e1c7761839f36f48d"
   }
  }
 },
 "nbformat": 4,
 "nbformat_minor": 2
}
