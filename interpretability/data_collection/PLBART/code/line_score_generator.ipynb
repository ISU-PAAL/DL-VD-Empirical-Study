{
 "cells": [
  {
   "cell_type": "code",
   "execution_count": 24,
   "metadata": {},
   "outputs": [],
   "source": [
    "import sys\n",
    "import json\n",
    "import pickle\n",
    "from transformers import (RobertaConfig, RobertaForSequenceClassification, RobertaTokenizer)"
   ]
  },
  {
   "cell_type": "code",
   "execution_count": 25,
   "metadata": {},
   "outputs": [],
   "source": [
    "sys.path.append('/Users/mahbubcseju/Desktop/projects/vul_detect')"
   ]
  },
  {
   "cell_type": "code",
   "execution_count": 26,
   "metadata": {},
   "outputs": [],
   "source": [
    "with open(\"../../data/devign/test.jsonl\", 'r') as f:\n",
    "    data = []\n",
    "    for  line in f:\n",
    "        try:\n",
    "            data.append(json.loads(line.strip()))\n",
    "        except Exception as e:\n",
    "            print(e)\n"
   ]
  },
  {
   "cell_type": "code",
   "execution_count": 27,
   "metadata": {},
   "outputs": [],
   "source": [
    "df = pickle.load(open('explanation_devign.pkl', 'rb'))"
   ]
  },
  {
   "cell_type": "code",
   "execution_count": 28,
   "metadata": {},
   "outputs": [
    {
     "name": "stdout",
     "output_type": "stream",
     "text": [
      "2732\n"
     ]
    }
   ],
   "source": [
    "input_file = '/Users/mahbubcseju/Desktop/projects/vul_detect/data/PLBART/devign/processed/test.input0'\n",
    "label_file = '/Users/mahbubcseju/Desktop/projects/vul_detect/data/PLBART/devign/processed/test.label'\n",
    "with open(input_file) as inpf, open(label_file) as labelf:\n",
    "        inputs = inpf.readlines()\n",
    "        labels = labelf.readlines()\n",
    "        print(len(inputs))"
   ]
  },
  {
   "cell_type": "code",
   "execution_count": 29,
   "metadata": {},
   "outputs": [],
   "source": [
    "data_lines = []\n",
    "for orginal, processed, explanation in zip(data, inputs, df):\n",
    "    lines = orginal['func'].split(\"\\n\")\n",
    "    # print(len(lines))\n",
    "    ptr = 0\n",
    "    final_lines = []\n",
    "    cur_line = []\n",
    "    for word_ in processed.split():\n",
    "        word = word_\n",
    "        # print(word_[0], word_[0] == '▁')\n",
    "        if len(word_) > 0 and word_[0] == '▁':\n",
    "            word = word[1:]\n",
    "        # print(word, ptr)\n",
    "        while word not in lines[ptr]:\n",
    "            final_lines.append(cur_line)\n",
    "            cur_line = []\n",
    "            ptr += 1\n",
    "        cur_line.append(word_)\n",
    "    while ptr < len(lines):\n",
    "        final_lines.append(cur_line)\n",
    "        cur_line = []\n",
    "        ptr += 1\n",
    "    \n",
    "    assert len(lines) == len(final_lines)\n",
    "    tokens = [tok for line in final_lines for tok in line]\n",
    "    assert tokens == explanation[0]['sentence'].tokens\n",
    "    data_lines.append(final_lines)"
   ]
  },
  {
   "cell_type": "code",
   "execution_count": 30,
   "metadata": {},
   "outputs": [],
   "source": [
    "def get_max_match(original, start_index,  tokens):\n",
    "    lo = len(original)\n",
    "    lt = len(tokens)\n",
    "    ind , max_score = 0, lo\n",
    "    for i in range(start_index, lo-lt+ 1):\n",
    "        found = True\n",
    "        for j in range(lt):\n",
    "            if  original[i + j] != tokens[j]:\n",
    "                found = False\n",
    "        if found:\n",
    "            return [x for x in range(i, i + lt)]\n",
    "    return []"
   ]
  },
  {
   "cell_type": "code",
   "execution_count": 31,
   "metadata": {},
   "outputs": [],
   "source": [
    "def calculate_score(scores, ids):\n",
    "    sum = 0\n",
    "    for id in ids:\n",
    "        sum += scores[id]\n",
    "    return sum"
   ]
  },
  {
   "cell_type": "code",
   "execution_count": 32,
   "metadata": {},
   "outputs": [],
   "source": [
    "from sklearn.preprocessing import minmax_scale\n"
   ]
  },
  {
   "cell_type": "code",
   "execution_count": 33,
   "metadata": {},
   "outputs": [],
   "source": [
    "line_scores = []\n",
    "for lines, explanation_, data_ in zip(data_lines, df, data):\n",
    "    explanation = explanation_[0]['sentence']\n",
    "\n",
    "    prev_data = list(explanation.salience)\n",
    "    salience = minmax_scale(prev_data)\n",
    "    scores = []\n",
    "    start_index = 0\n",
    "    for line in lines:\n",
    "        ids = get_max_match(explanation.tokens, start_index, line)\n",
    "        if ids:\n",
    "            start_index = ids[-1] + 1\n",
    "        scores.append(calculate_score(salience, ids))\n",
    "    line_scores.append({\n",
    "        'idx': data_['idx'],\n",
    "        'scores': scores\n",
    "    })\n",
    "    "
   ]
  },
  {
   "cell_type": "code",
   "execution_count": 34,
   "metadata": {},
   "outputs": [],
   "source": [
    "json.dump(line_scores, open(\"line_scores.json\", 'w'))"
   ]
  },
  {
   "cell_type": "code",
   "execution_count": null,
   "metadata": {},
   "outputs": [],
   "source": []
  }
 ],
 "metadata": {
  "kernelspec": {
   "display_name": "Python 3.7.13 ('codebert')",
   "language": "python",
   "name": "python3"
  },
  "language_info": {
   "codemirror_mode": {
    "name": "ipython",
    "version": 3
   },
   "file_extension": ".py",
   "mimetype": "text/x-python",
   "name": "python",
   "nbconvert_exporter": "python",
   "pygments_lexer": "ipython3",
   "version": "3.7.13"
  },
  "orig_nbformat": 4,
  "vscode": {
   "interpreter": {
    "hash": "23f55371fe6a3bc989ef5682b29e7895456b08d287f3d8049f420667cb23d85a"
   }
  }
 },
 "nbformat": 4,
 "nbformat_minor": 2
}
