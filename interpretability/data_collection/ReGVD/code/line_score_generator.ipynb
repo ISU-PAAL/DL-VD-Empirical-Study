{
 "cells": [
  {
   "cell_type": "code",
   "execution_count": 1,
   "metadata": {},
   "outputs": [
    {
     "name": "stderr",
     "output_type": "stream",
     "text": [
      "/Users/mahbubcseju/opt/anaconda3/envs/codebert/lib/python3.7/site-packages/tqdm/auto.py:22: TqdmWarning: IProgress not found. Please update jupyter and ipywidgets. See https://ipywidgets.readthedocs.io/en/stable/user_install.html\n",
      "  from .autonotebook import tqdm as notebook_tqdm\n"
     ]
    }
   ],
   "source": [
    "\n",
    "\n",
    "import sys\n",
    "import json\n",
    "import pickle\n",
    "from transformers import (RobertaConfig, RobertaForSequenceClassification, RobertaTokenizer)"
   ]
  },
  {
   "cell_type": "code",
   "execution_count": 2,
   "metadata": {},
   "outputs": [],
   "source": [
    "sys.path.append('/Users/mahbubcseju/Desktop/projects/vul_detect')"
   ]
  },
  {
   "cell_type": "code",
   "execution_count": 3,
   "metadata": {},
   "outputs": [],
   "source": [
    "with open(\"../../data/devign/test.jsonl\", 'r') as f:\n",
    "    data = []\n",
    "    for  line in f:\n",
    "        try:\n",
    "            data.append(json.loads(line.strip()))\n",
    "        except Exception as e:\n",
    "            print(e)\n"
   ]
  },
  {
   "cell_type": "code",
   "execution_count": 4,
   "metadata": {},
   "outputs": [],
   "source": [
    "explanations = pickle.load(open('explanation_devign.pkl', 'rb'))"
   ]
  },
  {
   "cell_type": "code",
   "execution_count": 5,
   "metadata": {},
   "outputs": [],
   "source": [
    "config_class, model_class, tokenizer_class = RobertaConfig, RobertaForSequenceClassification, RobertaTokenizer\n",
    "tokenizer = tokenizer_class.from_pretrained(\"microsoft/codebert-base\")"
   ]
  },
  {
   "cell_type": "code",
   "execution_count": 6,
   "metadata": {},
   "outputs": [],
   "source": [
    "def convert_examples_to_features(js,tokenizer,args):\n",
    "    #source\n",
    "    # codes = remove_comments(js['func'])\n",
    "    code=' '.join(js['func'].split())\n",
    "    # code=code.replace(\"{\", \"\").replace(\"}\", \"\")\n",
    "    # code = ' '.join(codes.split())\n",
    "    code_tokens=tokenizer.tokenize(code)[:args.block_size-2]\n",
    "    source_tokens =[tokenizer.cls_token]+code_tokens+[tokenizer.sep_token]\n",
    "    source_ids =  tokenizer.convert_tokens_to_ids(source_tokens)\n",
    "    padding_length = args.block_size - len(source_ids)\n",
    "    source_ids+=[tokenizer.pad_token_id]*padding_length\n",
    "    return "
   ]
  },
  {
   "cell_type": "code",
   "execution_count": 7,
   "metadata": {},
   "outputs": [],
   "source": [
    "def get_max_match(original, start_index,  tokens):\n",
    "    lo = len(original)\n",
    "    lt = len(tokens)\n",
    "    ind , max_score = 0, lo\n",
    "    for i in range(start_index, lo-lt+ 1):\n",
    "        found = True\n",
    "        for j in range(lt):\n",
    "            if original[i + j] == tokens[j] or original[i+ j][1:] == tokens[j]:\n",
    "                continue\n",
    "            if  original[i + j] != tokens[j]:\n",
    "                found = False\n",
    "        if found:\n",
    "            return [x for x in range(i, i + lt)]\n",
    "    return []"
   ]
  },
  {
   "cell_type": "code",
   "execution_count": 8,
   "metadata": {},
   "outputs": [],
   "source": [
    "def calculate_score(scores, ids):\n",
    "    sum = 0\n",
    "    for id in ids:\n",
    "        sum += scores[id]\n",
    "    return 0 if len(ids) == 0 else sum / len(ids)"
   ]
  },
  {
   "cell_type": "code",
   "execution_count": 9,
   "metadata": {},
   "outputs": [],
   "source": [
    "def convert_to_token_lines(tokens, code):\n",
    "    code = ' '.join(code.split())\n",
    "    lines = code.split(\"\\n\")\n",
    "    start_index = 0\n",
    "    token_lines = []\n",
    "    for line in lines:\n",
    "        # code = ' '.join(line.split())\n",
    "        line_tokens = tokenizer.tokenize( code)\n",
    "        ids = get_max_match(tokens, start_index, line_tokens)\n",
    "        if  ids:\n",
    "            token_lines.append(tokens[ids[0]: ids[-1] + 1])\n",
    "            start_index = ids[-1] + 1\n",
    "        else:\n",
    "            token_lines.append([])\n",
    "    return token_lines"
   ]
  },
  {
   "cell_type": "code",
   "execution_count": 10,
   "metadata": {},
   "outputs": [],
   "source": [
    "results = []\n",
    "for sample, explanation in zip(data, explanations):\n",
    "    assert sample['idx'] == int(explanation['id'][0])\n",
    "    assert len(explanation['src_nodes']) == len(explanation['des_nodes']) == len(explanation['edge_mask']), sample['idx']\n",
    "    # print(explanation.keys())\n",
    "    # print({i: tok[0] for i, tok in enumerate(explanation['tokens']) if tok[0][0] == 'Ġ'})\n",
    "    # print(\"Src  Nodes: \", explanation['src_nodes'])\n",
    "    # print(\"Destination nodes: \", explanation['des_nodes'])\n",
    "    # print(\"edge_mask: \", min(explanation['edge_mask'].cpu().numpy()))\n",
    "    tokens = [tok[0] for tok in explanation['tokens']]\n",
    "    vocabs = list(set(tokens))\n",
    "    vocabs_line_dict = {word: [] for word in vocabs}\n",
    "    lines = sample['func'].split(\"\\n\")\n",
    "    for word_ in vocabs:\n",
    "        word = word_[1:] if word_[0] == 'Ġ' else word_\n",
    "        for i, line in enumerate(lines):\n",
    "            if word in line:\n",
    "                vocabs_line_dict[word_].append(i)\n",
    "    vocabs_line_dict['<s>'].append(0)\n",
    "    vocabs_line_dict['</s>'].append(len(lines)-1)\n",
    "    lines_scores = [[] for i in range(len(lines))]\n",
    "    for src, des, score in zip(explanation['src_nodes'], explanation['des_nodes'], explanation['edge_mask'].cpu().numpy()):\n",
    "        if src == '<pad>' or des == '<pad>':\n",
    "            continue\n",
    "        for line_no in vocabs_line_dict[src] + vocabs_line_dict[des]:\n",
    "            lines_scores[line_no].append(score)\n",
    "    \n",
    "    results.append({\n",
    "        'idx': sample['idx'],\n",
    "        'scores': [sum(score) for score in lines_scores]\n",
    "    })"
   ]
  },
  {
   "cell_type": "code",
   "execution_count": 11,
   "metadata": {},
   "outputs": [],
   "source": [
    "json.dump(results, open(\"line_scores.json\", 'w'))"
   ]
  },
  {
   "cell_type": "code",
   "execution_count": null,
   "metadata": {},
   "outputs": [],
   "source": []
  },
  {
   "cell_type": "code",
   "execution_count": null,
   "metadata": {},
   "outputs": [],
   "source": []
  }
 ],
 "metadata": {
  "kernelspec": {
   "display_name": "Python 3.7.13 ('codebert')",
   "language": "python",
   "name": "python3"
  },
  "language_info": {
   "codemirror_mode": {
    "name": "ipython",
    "version": 3
   },
   "file_extension": ".py",
   "mimetype": "text/x-python",
   "name": "python",
   "nbconvert_exporter": "python",
   "pygments_lexer": "ipython3",
   "version": "3.7.13"
  },
  "orig_nbformat": 4,
  "vscode": {
   "interpreter": {
    "hash": "23f55371fe6a3bc989ef5682b29e7895456b08d287f3d8049f420667cb23d85a"
   }
  }
 },
 "nbformat": 4,
 "nbformat_minor": 2
}
