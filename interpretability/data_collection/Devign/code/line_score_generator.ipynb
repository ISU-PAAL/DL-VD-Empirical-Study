{
 "cells": [
  {
   "cell_type": "code",
   "execution_count": 1,
   "metadata": {},
   "outputs": [
    {
     "name": "stderr",
     "output_type": "stream",
     "text": [
      "/Users/mahbubcseju/opt/anaconda3/envs/codebert/lib/python3.7/site-packages/tqdm/auto.py:22: TqdmWarning: IProgress not found. Please update jupyter and ipywidgets. See https://ipywidgets.readthedocs.io/en/stable/user_install.html\n",
      "  from .autonotebook import tqdm as notebook_tqdm\n"
     ]
    }
   ],
   "source": [
    "\n",
    "\n",
    "import sys\n",
    "import json\n",
    "import pickle\n",
    "import pandas as pd\n",
    "from transformers import (RobertaConfig, RobertaForSequenceClassification, RobertaTokenizer)"
   ]
  },
  {
   "cell_type": "code",
   "execution_count": 2,
   "metadata": {},
   "outputs": [],
   "source": [
    "sys.path.append('/Users/mahbubcseju/Desktop/projects/vul_detect')"
   ]
  },
  {
   "cell_type": "code",
   "execution_count": 3,
   "metadata": {},
   "outputs": [],
   "source": [
    "with open(\"../../data/devign/test.jsonl\", 'r') as f:\n",
    "    data = []\n",
    "    for  line in f:\n",
    "        try:\n",
    "            data.append(json.loads(line.strip()))\n",
    "        except Exception as e:\n",
    "            print(e)\n"
   ]
  },
  {
   "cell_type": "code",
   "execution_count": 4,
   "metadata": {},
   "outputs": [],
   "source": [
    "explanations = pickle.load(open('explanation_devign.pkl', 'rb'))"
   ]
  },
  {
   "cell_type": "code",
   "execution_count": 5,
   "metadata": {},
   "outputs": [],
   "source": [
    "df_split = pd.read_csv('splits.csv')\n",
    "df_map= pd.read_csv('map.csv')"
   ]
  },
  {
   "cell_type": "code",
   "execution_count": 6,
   "metadata": {},
   "outputs": [],
   "source": [
    "df_split = df_split.sort_values(by='example_index')\n",
    "df_map = df_map.sort_values(by='training_example_index')\n",
    "df_map['example_index'] = df_map['training_example_index']"
   ]
  },
  {
   "cell_type": "code",
   "execution_count": 7,
   "metadata": {},
   "outputs": [],
   "source": [
    "df = df_map.merge(df_split, how='inner', on='example_index')"
   ]
  },
  {
   "cell_type": "code",
   "execution_count": 8,
   "metadata": {},
   "outputs": [],
   "source": [
    "devign_to_codexglue = {}\n",
    "for item, row in df.iterrows():\n",
    "    if row['split'] == 'test':\n",
    "        devign_to_codexglue[row['example_index']] = row['codexglue_example_index']\n"
   ]
  },
  {
   "cell_type": "code",
   "execution_count": 9,
   "metadata": {},
   "outputs": [],
   "source": [
    "\n",
    "for ex in explanations:\n",
    "    ex['id'] = devign_to_codexglue[ex['id']]"
   ]
  },
  {
   "cell_type": "code",
   "execution_count": 15,
   "metadata": {},
   "outputs": [],
   "source": [
    "from cmath import exp\n",
    "\n",
    "\n",
    "results = []\n",
    "cnt = 0\n",
    "for sample in data:\n",
    "\n",
    "    id = sample['idx']\n",
    "    lines = sample['func'].split(\"\\n\")\n",
    "    explan = None\n",
    "    for explanation in explanations:\n",
    "        if explanation['id'] == id:\n",
    "            explan = explanation\n",
    "            break\n",
    "    # print(sample['func'])\n",
    "    if explan == None:\n",
    "        cnt += 1\n",
    "        # print(id)\n",
    "        results.append({\n",
    "            'idx': id,\n",
    "            'scores':[0 for i in range(len(lines))] \n",
    "        })\n",
    "        continue\n",
    "    assert sample['idx'] == explan['id']\n",
    "    assert len(explan['edges'][0]) == len(explan['edges'][0]), \"edge information are not correct\"\n",
    "    assert len(explan['node_code']) == len(explan['nodes']), \"node information are not correct\"\n",
    "    # print(len(explan['nodes']), len(explan['code'].split(\"\\n\")))\n",
    "    # print(explan['node_code'])\n",
    "    # print(explan['code'])\n",
    "\n",
    "    node_to_line_nos = {i: [] for i in range(len(explan['nodes']))}\n",
    "    for ind_node, code in enumerate(explan['node_tokens']):\n",
    "        len_ = len(code)\n",
    "        line_tokens = [[] for i in range(len(lines))]\n",
    "        for ind_token, token in enumerate(code):\n",
    "            for ind_line, line in enumerate(lines):\n",
    "                # print(token, line)\n",
    "                if token in line:\n",
    "                    line_tokens[ind_line].append(ind_token)\n",
    "\n",
    "        for ind_line in range(len(lines)):\n",
    "            if len(list(set(line_tokens[ind_line]))) == len_:\n",
    "                # print(ind_node, ind_line)\n",
    "                # print(explan['node_code'][ind_node], lines[ind_line])\n",
    "                node_to_line_nos[ind_node].append(ind_line)\n",
    "        # break\n",
    "    # print(node_to_line_nos)\n",
    "    line_scores = [[] for line in lines]\n",
    "    for u, v, score in zip(explan['edges'][0], explan['edges'][1], explan['edge_importance']):\n",
    "        for node in node_to_line_nos[u] + node_to_line_nos[v]:\n",
    "            line_scores[node].append(score)\n",
    "            # print(node, score)\n",
    "    \n",
    "    results.append({\n",
    "        'idx': sample['idx'],\n",
    "        'scores': [sum(line_score) for line_score in line_scores]\n",
    "    })\n",
    "    # print([sum(line_score)/len(line_score) if line_score else 0 for line_score in line_scores])\n",
    "    # for line_score in line_scores:\n",
    "    #     print(line_score)\n"
   ]
  },
  {
   "cell_type": "code",
   "execution_count": 16,
   "metadata": {},
   "outputs": [
    {
     "data": {
      "text/plain": [
       "293"
      ]
     },
     "execution_count": 16,
     "metadata": {},
     "output_type": "execute_result"
    }
   ],
   "source": [
    "cnt"
   ]
  },
  {
   "cell_type": "code",
   "execution_count": 17,
   "metadata": {},
   "outputs": [],
   "source": [
    "json.dump(results, open(\"line_scores.json\", 'w'))"
   ]
  },
  {
   "cell_type": "code",
   "execution_count": null,
   "metadata": {},
   "outputs": [],
   "source": []
  },
  {
   "cell_type": "code",
   "execution_count": null,
   "metadata": {},
   "outputs": [],
   "source": []
  }
 ],
 "metadata": {
  "kernelspec": {
   "display_name": "Python 3.7.13 ('codebert')",
   "language": "python",
   "name": "python3"
  },
  "language_info": {
   "codemirror_mode": {
    "name": "ipython",
    "version": 3
   },
   "file_extension": ".py",
   "mimetype": "text/x-python",
   "name": "python",
   "nbconvert_exporter": "python",
   "pygments_lexer": "ipython3",
   "version": "3.7.13"
  },
  "orig_nbformat": 4,
  "vscode": {
   "interpreter": {
    "hash": "23f55371fe6a3bc989ef5682b29e7895456b08d287f3d8049f420667cb23d85a"
   }
  }
 },
 "nbformat": 4,
 "nbformat_minor": 2
}
