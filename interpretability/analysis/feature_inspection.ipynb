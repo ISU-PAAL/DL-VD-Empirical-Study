{
 "cells": [
  {
   "cell_type": "code",
   "execution_count": 17,
   "metadata": {},
   "outputs": [],
   "source": [
    "import os \n",
    "import json\n",
    "import pandas as pd"
   ]
  },
  {
   "cell_type": "code",
   "execution_count": 18,
   "metadata": {},
   "outputs": [],
   "source": [
    "models = ['linevul', 'codebert', 'PLBART', 'devign',  'regvd', 'vulberta_cnn', 'vulberta_mlp']"
   ]
  },
  {
   "cell_type": "code",
   "execution_count": 19,
   "metadata": {},
   "outputs": [],
   "source": [
    "with open(\"../data/devign/test.jsonl\", 'r') as f:\n",
    "    data = []\n",
    "    for  line in f:\n",
    "        try:\n",
    "            data.append(json.loads(line.strip()))\n",
    "        except Exception as e:\n",
    "            print(e)\n"
   ]
  },
  {
   "cell_type": "code",
   "execution_count": 20,
   "metadata": {},
   "outputs": [],
   "source": [
    "scores = {model: {} for model in models}\n",
    "for model in models:\n",
    "    model_d = json.load(open(os.path.join(model, \"{}_line_scores.json\".format(model)), \"r\"))\n",
    "    for x in model_d:\n",
    "        scores[model][x['idx']] = x['scores']"
   ]
  },
  {
   "cell_type": "code",
   "execution_count": 21,
   "metadata": {},
   "outputs": [],
   "source": [
    "predictions = {model:{} for model in models}\n",
    "for model in models:\n",
    "    df_pred = pd.read_csv(\"predictions/{}_predictions.csv\".format(model))\n",
    "    for idx, row in df_pred.iterrows():\n",
    "        predictions[model][row['idx']] = row['prediction']"
   ]
  },
  {
   "cell_type": "code",
   "execution_count": 22,
   "metadata": {},
   "outputs": [],
   "source": [
    "def maximum_aggrement(freq, model_threshold):\n",
    "    aggrement_lines = []\n",
    "    for i, fr in enumerate(freq):\n",
    "        if fr >= model_threshold: \n",
    "            aggrement_lines.append(i)\n",
    "    return aggrement_lines"
   ]
  },
  {
   "cell_type": "code",
   "execution_count": 23,
   "metadata": {},
   "outputs": [],
   "source": [
    "import shutil"
   ]
  },
  {
   "cell_type": "code",
   "execution_count": 24,
   "metadata": {},
   "outputs": [],
   "source": [
    "# keywords = ['if', 'while', 'for', 'error', 'print', 'fail', 'alloc', 'free', 'memset', 'memcpy']\n",
    "\n",
    "# models_keyword = {}\n",
    "# for model in models:\n",
    "#     models_keyword[model] = {}\n",
    "#     for key in keywords:\n",
    "#         models_keyword[model][key] = []\n",
    "\n",
    "# models_data = {model: 0 for model in models}"
   ]
  },
  {
   "cell_type": "code",
   "execution_count": null,
   "metadata": {},
   "outputs": [],
   "source": []
  },
  {
   "cell_type": "code",
   "execution_count": 25,
   "metadata": {},
   "outputs": [],
   "source": [
    "\n",
    "# for sample in data:\n",
    "#     # if sample['target'] == 0: \n",
    "#     #     continue\n",
    "\n",
    "#     ind = sample['idx']\n",
    "#     lines = sample['func'].split(\"\\n\")\n",
    "#     keys_values = {key: 0 for key in keywords}\n",
    "#     for line in lines:\n",
    "#         for key in keywords:\n",
    "#             if key in line:\n",
    "#                 keys_values[key] += 1\n",
    "\n",
    "#     for model in models:\n",
    "#         if ind in predictions[model]:\n",
    "#             models_data[model] += 1\n",
    "#             paired_data_1 = [(scores[model][ind][i]  , i) for i in range(len(scores[model][ind]))]\n",
    "#             assert len(paired_data_1) == len(lines)\n",
    "#             sorted_data_1 = sorted(paired_data_1, reverse=True)\n",
    "#             data_1_lines = set([k[1] for k in sorted_data_1[:10]])\n",
    "#             keywrod_lines = {key: 0 for key in keywords}\n",
    "#             for line_no in data_1_lines:\n",
    "#                 line = lines[line_no].lower()\n",
    "#                 for key in keywords:\n",
    "#                     keywrod_lines[key] += (1 if line.count(key) > 0 else 0)\n",
    "#             for key in keywords:\n",
    "#                 models_keyword[model][key].append((keywrod_lines[key]/ keys_values[key]) if keys_values[key] else 0)"
   ]
  },
  {
   "cell_type": "code",
   "execution_count": 26,
   "metadata": {},
   "outputs": [],
   "source": [
    "keywords = ['if', 'while', 'for', 'error', 'print', 'fail', 'alloc', 'free', 'memset', 'memcpy']\n",
    "\n",
    "models_keyword = {}\n",
    "for model in models:\n",
    "    models_keyword[model] = {}\n",
    "    for key in keywords:\n",
    "        models_keyword[model][key] = []\n",
    "\n",
    "models_data = {model: 0 for model in models}\n",
    "\n",
    "\n",
    "for sample in data:\n",
    "    # if sample['target'] == 0: \n",
    "    #     continue\n",
    "\n",
    "    ind = sample['idx']\n",
    "    lines = sample['func'].split(\"\\n\")\n",
    "\n",
    "    for model in models:\n",
    "        if ind in predictions[model]:\n",
    "            models_data[model] += 1\n",
    "            paired_data_1 = [(scores[model][ind][i]  , i) for i in range(len(scores[model][ind]))]\n",
    "            assert len(paired_data_1) == len(lines)\n",
    "            \n",
    "            last_line = len(lines)\n",
    "            while last_line >=1 and scores[model][ind][last_line - 1] == 0:\n",
    "                last_line -= 1\n",
    "\n",
    "            keys_values = {key: 0 for key in keywords}\n",
    "            for line_no,line in enumerate(lines):\n",
    "                if line_no >= last_line:\n",
    "                    break\n",
    "                for key in keywords:\n",
    "                    if key in line:\n",
    "                        keys_values[key] += 1\n",
    "\n",
    "            line_threshold = min(last_line, 10)\n",
    "            sorted_data_1 = sorted(paired_data_1, reverse=True)\n",
    "            data_1_lines = set([k[1] for k in sorted_data_1[:line_threshold]])\n",
    "            assert len(data_1_lines) <= 10\n",
    "            keywrod_lines = {key: 0 for key in keywords}\n",
    "            for line_no in data_1_lines:\n",
    "                line = lines[line_no].lower()\n",
    "                for key in keywords:\n",
    "                    keywrod_lines[key] += (1 if line.count(key) > 0 else 0)\n",
    "            for key in keywords:\n",
    "                models_keyword[model][key].append((keywrod_lines[key]/ keys_values[key]) if keys_values[key] else 0)"
   ]
  },
  {
   "cell_type": "code",
   "execution_count": 27,
   "metadata": {},
   "outputs": [],
   "source": [
    "key_percentage = {model: {} for model in models}\n",
    "for model in models:\n",
    "    for key in keywords:\n",
    "        key_percentage[model][key]  = sum(models_keyword[model][key]) / len(models_keyword[model][key]) "
   ]
  },
  {
   "cell_type": "code",
   "execution_count": 36,
   "metadata": {},
   "outputs": [],
   "source": [
    "data_1 = []\n",
    "for key in keywords:\n",
    "    row_data= [key]\n",
    "    for model in models:\n",
    "        row_data.append(round(key_percentage[model][key], 3))\n",
    "    data_1.append(row_data)"
   ]
  },
  {
   "cell_type": "code",
   "execution_count": 37,
   "metadata": {},
   "outputs": [],
   "source": [
    "df = pd.DataFrame(data_1, columns= ['feature'] + models)"
   ]
  },
  {
   "cell_type": "code",
   "execution_count": 38,
   "metadata": {},
   "outputs": [
    {
     "name": "stdout",
     "output_type": "stream",
     "text": [
      "\\begin{tabular}{llrrrrrrr}\n",
      "\\toprule\n",
      "{} & feature &  linevul &  codebert &  PLBART &  devign &  regvd &  vulberta\\_cnn &  vulberta\\_mlp \\\\\n",
      "\\midrule\n",
      "0 &      if &    0.411 &     0.447 &   0.596 &   0.380 &  0.335 &         0.268 &         0.276 \\\\\n",
      "1 &   while &    0.040 &     0.038 &   0.047 &   0.056 &  0.043 &         0.033 &         0.028 \\\\\n",
      "2 &     for &    0.222 &     0.178 &   0.209 &   0.233 &  0.156 &         0.104 &         0.083 \\\\\n",
      "3 &   error &    0.121 &     0.100 &   0.097 &   0.072 &  0.102 &         0.070 &         0.085 \\\\\n",
      "4 &   print &    0.092 &     0.068 &   0.065 &   0.040 &  0.086 &         0.053 &         0.065 \\\\\n",
      "5 &    fail &    0.030 &     0.023 &   0.018 &   0.014 &  0.027 &         0.020 &         0.034 \\\\\n",
      "6 &   alloc &    0.100 &     0.098 &   0.080 &   0.078 &  0.106 &         0.055 &         0.074 \\\\\n",
      "7 &    free &    0.050 &     0.059 &   0.046 &   0.048 &  0.057 &         0.052 &         0.073 \\\\\n",
      "8 &  memset &    0.023 &     0.032 &   0.022 &   0.011 &  0.029 &         0.018 &         0.019 \\\\\n",
      "9 &  memcpy &    0.023 &     0.019 &   0.011 &   0.016 &  0.029 &         0.015 &         0.018 \\\\\n",
      "\\bottomrule\n",
      "\\end{tabular}\n",
      "\n"
     ]
    }
   ],
   "source": [
    "print(df.to_latex())"
   ]
  },
  {
   "cell_type": "code",
   "execution_count": 30,
   "metadata": {},
   "outputs": [],
   "source": [
    "df.to_csv(\"frequent_keyword.csv\")"
   ]
  },
  {
   "cell_type": "code",
   "execution_count": 31,
   "metadata": {},
   "outputs": [
    {
     "name": "stdout",
     "output_type": "stream",
     "text": [
      "['if', 'while', 'for', 'error', 'print', 'fail', 'alloc', 'free', 'memset', 'memcpy']\n"
     ]
    }
   ],
   "source": [
    "df_data = []\n",
    "for key in keywords:\n",
    "    values = []\n",
    "    for sample in data:\n",
    "        ind = sample['idx']\n",
    "        lines = sample['func'].split(\"\\n\")\n",
    "        while lines.count('') > 0:\n",
    "            lines.remove('')\n",
    "        n_lines = len(lines)\n",
    "        n_key = 0\n",
    "        for line in lines:\n",
    "            if key in line:\n",
    "                n_key += 1\n",
    "        values.append((n_key/n_lines) if n_lines else 0)\n",
    "    df_data.append(sum(values)/ len(values))\n",
    "print(keywords)\n",
    "df_l = pd.DataFrame([df_data], columns=keywords)\n",
    "df_l.to_csv(\"keyword_by_lines.csv\")"
   ]
  }
 ],
 "metadata": {
  "kernelspec": {
   "display_name": "Python 3 (ipykernel)",
   "language": "python",
   "name": "python3"
  },
  "language_info": {
   "codemirror_mode": {
    "name": "ipython",
    "version": 3
   },
   "file_extension": ".py",
   "mimetype": "text/x-python",
   "name": "python",
   "nbconvert_exporter": "python",
   "pygments_lexer": "ipython3",
   "version": "3.8.10"
  },
  "vscode": {
   "interpreter": {
    "hash": "23f55371fe6a3bc989ef5682b29e7895456b08d287f3d8049f420667cb23d85a"
   }
  }
 },
 "nbformat": 4,
 "nbformat_minor": 2
}
