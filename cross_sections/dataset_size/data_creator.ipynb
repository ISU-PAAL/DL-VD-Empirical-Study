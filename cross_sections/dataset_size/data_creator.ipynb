{
 "cells": [
  {
   "cell_type": "code",
   "execution_count": 1,
   "metadata": {},
   "outputs": [],
   "source": [
    "import pandas as pd"
   ]
  },
  {
   "cell_type": "code",
   "execution_count": 2,
   "metadata": {},
   "outputs": [
    {
     "name": "stderr",
     "output_type": "stream",
     "text": [
      "/Users/mahbubcseju/opt/anaconda3/envs/codebert/lib/python3.7/site-packages/IPython/core/interactiveshell.py:3553: DtypeWarning: Columns (20,22,23,27,28,29) have mixed types.Specify dtype option on import or set low_memory=False.\n",
      "  exec(code_obj, self.user_global_ns, self.user_ns)\n"
     ]
    }
   ],
   "source": [
    "df_msr = pd.read_csv('../MSR/MSR_data_cleaned.csv')"
   ]
  },
  {
   "cell_type": "code",
   "execution_count": 3,
   "metadata": {},
   "outputs": [],
   "source": [
    "df_devign = pd.read_json('../devign/function.json')"
   ]
  },
  {
   "cell_type": "code",
   "execution_count": 4,
   "metadata": {},
   "outputs": [],
   "source": [
    "df_msr_ = []\n",
    "for index, row in df_msr.iterrows():\n",
    "    df_msr_.append(row)"
   ]
  },
  {
   "cell_type": "code",
   "execution_count": 5,
   "metadata": {},
   "outputs": [],
   "source": [
    "df_devign_ = []\n",
    "for index, row in df_devign.iterrows():\n",
    "    df_devign_.append(row)"
   ]
  },
  {
   "cell_type": "code",
   "execution_count": 6,
   "metadata": {},
   "outputs": [
    {
     "data": {
      "text/plain": [
       "Unnamed: 0                                                                      0\n",
       "Access Gained                                                                None\n",
       "Attack Origin                                                              Remote\n",
       "Authentication Required                                             Single system\n",
       "Availability                                                              Partial\n",
       "CVE ID                                                              CVE-2015-8467\n",
       "CVE Page                            https://www.cvedetails.com/cve/CVE-2015-8467/\n",
       "CWE ID                                                                    CWE-264\n",
       "Complexity                                                                 Medium\n",
       "Confidentiality                                                           Partial\n",
       "Integrity                                                                 Partial\n",
       "Known Exploits                                                                NaN\n",
       "Publish Date                                                           2015-12-29\n",
       "Score                                                                         6.0\n",
       "Summary                         The samldb_check_user_account_control_acl func...\n",
       "Update Date                                                            2016-12-30\n",
       "Vulnerability Classification                                               Bypass\n",
       "add_lines                                                                       0\n",
       "codeLink                        https://git.samba.org/?p=samba.git;a=commit;h=...\n",
       "commit_id                                b000da128b5fb519d2d3f2e7fd20e4a25b7dae7d\n",
       "commit_message                                                                NaN\n",
       "del_lines                                                                       0\n",
       "file_name                                                                     NaN\n",
       "files_changed                                                                 NaN\n",
       "func_after                      static bool check_rodc_critical_attribute(stru...\n",
       "func_before                     static bool check_rodc_critical_attribute(stru...\n",
       "lang                                                                            C\n",
       "lines_after                                                                   NaN\n",
       "lines_before                                                                  NaN\n",
       "parentID                                 a819d2b440aafa3138d95ff6e8b824da885a70e9\n",
       "patch                           @@ -1558,12 +1558,15 @@ static int samldb_chec...\n",
       "project                                                                     samba\n",
       "project_after                   https://git.samba.org/?p=samba.git;a=blob;f=so...\n",
       "project_before                  https://git.samba.org/?p=samba.git;a=blob;f=so...\n",
       "vul                                                                             0\n",
       "vul_func_with_fix               static bool check_rodc_critical_attribute(stru...\n",
       "Name: 0, dtype: object"
      ]
     },
     "execution_count": 6,
     "metadata": {},
     "output_type": "execute_result"
    }
   ],
   "source": [
    "df_msr_[0]"
   ]
  },
  {
   "cell_type": "code",
   "execution_count": 7,
   "metadata": {},
   "outputs": [],
   "source": [
    "df = pd.read_csv('balanced_0.1.csv')"
   ]
  },
  {
   "cell_type": "code",
   "execution_count": 8,
   "metadata": {},
   "outputs": [
    {
     "data": {
      "text/html": [
       "<div>\n",
       "<style scoped>\n",
       "    .dataframe tbody tr th:only-of-type {\n",
       "        vertical-align: middle;\n",
       "    }\n",
       "\n",
       "    .dataframe tbody tr th {\n",
       "        vertical-align: top;\n",
       "    }\n",
       "\n",
       "    .dataframe thead th {\n",
       "        text-align: right;\n",
       "    }\n",
       "</style>\n",
       "<table border=\"1\" class=\"dataframe\">\n",
       "  <thead>\n",
       "    <tr style=\"text-align: right;\">\n",
       "      <th></th>\n",
       "      <th>Unnamed: 0</th>\n",
       "      <th>dataset</th>\n",
       "      <th>example_index</th>\n",
       "      <th>project</th>\n",
       "      <th>commit_id</th>\n",
       "      <th>target</th>\n",
       "      <th>split</th>\n",
       "    </tr>\n",
       "  </thead>\n",
       "  <tbody>\n",
       "    <tr>\n",
       "      <th>0</th>\n",
       "      <td>6</td>\n",
       "      <td>Devign</td>\n",
       "      <td>6</td>\n",
       "      <td>FFmpeg</td>\n",
       "      <td>afb4632cc30e83287338690c785ebac180436a59</td>\n",
       "      <td>1</td>\n",
       "      <td>train</td>\n",
       "    </tr>\n",
       "    <tr>\n",
       "      <th>1</th>\n",
       "      <td>18</td>\n",
       "      <td>Devign</td>\n",
       "      <td>18</td>\n",
       "      <td>qemu</td>\n",
       "      <td>3e305e4a4752f70c0b5c3cf5b43ec957881714f7</td>\n",
       "      <td>1</td>\n",
       "      <td>train</td>\n",
       "    </tr>\n",
       "    <tr>\n",
       "      <th>2</th>\n",
       "      <td>21</td>\n",
       "      <td>Devign</td>\n",
       "      <td>21</td>\n",
       "      <td>FFmpeg</td>\n",
       "      <td>323e6fead07c75f418e4b60704a4f437bb3483b2</td>\n",
       "      <td>1</td>\n",
       "      <td>train</td>\n",
       "    </tr>\n",
       "    <tr>\n",
       "      <th>3</th>\n",
       "      <td>30</td>\n",
       "      <td>Devign</td>\n",
       "      <td>30</td>\n",
       "      <td>FFmpeg</td>\n",
       "      <td>38477e1981a7729b02d9a2f45142c53dc78625fe</td>\n",
       "      <td>0</td>\n",
       "      <td>train</td>\n",
       "    </tr>\n",
       "    <tr>\n",
       "      <th>4</th>\n",
       "      <td>49</td>\n",
       "      <td>Devign</td>\n",
       "      <td>49</td>\n",
       "      <td>FFmpeg</td>\n",
       "      <td>9f61abc8111c7c43f49ca012e957a108b9cc7610</td>\n",
       "      <td>0</td>\n",
       "      <td>train</td>\n",
       "    </tr>\n",
       "    <tr>\n",
       "      <th>...</th>\n",
       "      <td>...</td>\n",
       "      <td>...</td>\n",
       "      <td>...</td>\n",
       "      <td>...</td>\n",
       "      <td>...</td>\n",
       "      <td>...</td>\n",
       "      <td>...</td>\n",
       "    </tr>\n",
       "    <tr>\n",
       "      <th>8303</th>\n",
       "      <td>215829</td>\n",
       "      <td>MSR</td>\n",
       "      <td>188593</td>\n",
       "      <td>Android</td>\n",
       "      <td>5a9753fca56f0eeb9f61e342b2fccffc364f9426</td>\n",
       "      <td>1</td>\n",
       "      <td>test</td>\n",
       "    </tr>\n",
       "    <tr>\n",
       "      <th>8304</th>\n",
       "      <td>215837</td>\n",
       "      <td>MSR</td>\n",
       "      <td>188601</td>\n",
       "      <td>Android</td>\n",
       "      <td>5a9753fca56f0eeb9f61e342b2fccffc364f9426</td>\n",
       "      <td>1</td>\n",
       "      <td>test</td>\n",
       "    </tr>\n",
       "    <tr>\n",
       "      <th>8305</th>\n",
       "      <td>215841</td>\n",
       "      <td>MSR</td>\n",
       "      <td>188605</td>\n",
       "      <td>Android</td>\n",
       "      <td>5a9753fca56f0eeb9f61e342b2fccffc364f9426</td>\n",
       "      <td>1</td>\n",
       "      <td>test</td>\n",
       "    </tr>\n",
       "    <tr>\n",
       "      <th>8306</th>\n",
       "      <td>215849</td>\n",
       "      <td>MSR</td>\n",
       "      <td>188613</td>\n",
       "      <td>Android</td>\n",
       "      <td>5a9753fca56f0eeb9f61e342b2fccffc364f9426</td>\n",
       "      <td>1</td>\n",
       "      <td>test</td>\n",
       "    </tr>\n",
       "    <tr>\n",
       "      <th>8307</th>\n",
       "      <td>215862</td>\n",
       "      <td>MSR</td>\n",
       "      <td>188626</td>\n",
       "      <td>Android</td>\n",
       "      <td>24d7c408c52143bce7b49de82f3913fd8d1219cf</td>\n",
       "      <td>1</td>\n",
       "      <td>test</td>\n",
       "    </tr>\n",
       "  </tbody>\n",
       "</table>\n",
       "<p>8308 rows × 7 columns</p>\n",
       "</div>"
      ],
      "text/plain": [
       "      Unnamed: 0 dataset  example_index  project  \\\n",
       "0              6  Devign              6   FFmpeg   \n",
       "1             18  Devign             18     qemu   \n",
       "2             21  Devign             21   FFmpeg   \n",
       "3             30  Devign             30   FFmpeg   \n",
       "4             49  Devign             49   FFmpeg   \n",
       "...          ...     ...            ...      ...   \n",
       "8303      215829     MSR         188593  Android   \n",
       "8304      215837     MSR         188601  Android   \n",
       "8305      215841     MSR         188605  Android   \n",
       "8306      215849     MSR         188613  Android   \n",
       "8307      215862     MSR         188626  Android   \n",
       "\n",
       "                                     commit_id  target  split  \n",
       "0     afb4632cc30e83287338690c785ebac180436a59       1  train  \n",
       "1     3e305e4a4752f70c0b5c3cf5b43ec957881714f7       1  train  \n",
       "2     323e6fead07c75f418e4b60704a4f437bb3483b2       1  train  \n",
       "3     38477e1981a7729b02d9a2f45142c53dc78625fe       0  train  \n",
       "4     9f61abc8111c7c43f49ca012e957a108b9cc7610       0  train  \n",
       "...                                        ...     ...    ...  \n",
       "8303  5a9753fca56f0eeb9f61e342b2fccffc364f9426       1   test  \n",
       "8304  5a9753fca56f0eeb9f61e342b2fccffc364f9426       1   test  \n",
       "8305  5a9753fca56f0eeb9f61e342b2fccffc364f9426       1   test  \n",
       "8306  5a9753fca56f0eeb9f61e342b2fccffc364f9426       1   test  \n",
       "8307  24d7c408c52143bce7b49de82f3913fd8d1219cf       1   test  \n",
       "\n",
       "[8308 rows x 7 columns]"
      ]
     },
     "execution_count": 8,
     "metadata": {},
     "output_type": "execute_result"
    }
   ],
   "source": [
    "df"
   ]
  },
  {
   "cell_type": "code",
   "execution_count": 9,
   "metadata": {},
   "outputs": [],
   "source": [
    "import json"
   ]
  },
  {
   "cell_type": "code",
   "execution_count": 10,
   "metadata": {},
   "outputs": [],
   "source": [
    "def get_ind_data(row):\n",
    "    if row['dataset'] == 'MSR':\n",
    "        return json.dumps({\n",
    "            'func': df_msr_[row['example_index']]['func_before'],\n",
    "            'target': df_msr_[row['example_index']]['vul'],\n",
    "            'dataset': row['dataset'],\n",
    "            'idx': row['example_index'],\n",
    "            'project': row['project']\n",
    "        }) +\"\\n\"\n",
    "    elif row['dataset'] == 'Devign':\n",
    "        return json.dumps({\n",
    "            'func': df_devign_[row['example_index']]['func'],\n",
    "            'target': df_devign_[row['example_index']]['target'],\n",
    "            'dataset': row['dataset'],\n",
    "            'idx': row['example_index'],\n",
    "            'project': row['project']\n",
    "        }) +\"\\n\"\n",
    "    assert False"
   ]
  },
  {
   "cell_type": "code",
   "execution_count": 11,
   "metadata": {},
   "outputs": [],
   "source": [
    "def get_data(df):\n",
    "    train = []\n",
    "    test = []\n",
    "    valid = []\n",
    "    for ind, row in df.iterrows():\n",
    "        if row['split'] == 'train':\n",
    "            train.append(get_ind_data(row))\n",
    "        if row['split'] == 'test':\n",
    "            test.append(get_ind_data(row))\n",
    "        if row['split'] == 'valid':\n",
    "            valid.append(get_ind_data(row))\n",
    "    return train, test, valid"
   ]
  },
  {
   "cell_type": "code",
   "execution_count": 12,
   "metadata": {},
   "outputs": [],
   "source": [
    "def writejsonl(data, file_path):\n",
    "    f = open(file_path, 'w')\n",
    "    f.writelines(data)\n",
    "    f.close()"
   ]
  },
  {
   "cell_type": "code",
   "execution_count": 15,
   "metadata": {},
   "outputs": [],
   "source": [
    "import os\n",
    "import shutil"
   ]
  },
  {
   "cell_type": "code",
   "execution_count": 16,
   "metadata": {},
   "outputs": [],
   "source": [
    "fold_num = ['0.01', '0.05']\n",
    "for dataset_name in [ 'imbalanced']:\n",
    "    for num in fold_num:\n",
    "        dataset = pd.read_csv('{}_{}.csv'.format(dataset_name, num))\n",
    "        result = [[], [], []]\n",
    "        result = get_data(dataset)\n",
    "        folder = '{}_{}'.format(dataset_name, num)\n",
    "        if not os.path.exists(folder):\n",
    "            os.mkdir(folder)\n",
    "        else:\n",
    "            shutil.rmtree(folder)\n",
    "            os.mkdir(folder)\n",
    "        writejsonl(result[0], '{}/train.jsonl'.format(folder))\n",
    "        writejsonl(result[1], '{}/test.jsonl'.format(folder))\n",
    "        writejsonl(result[2], '{}/valid.jsonl'.format(folder))"
   ]
  },
  {
   "cell_type": "code",
   "execution_count": null,
   "metadata": {},
   "outputs": [],
   "source": []
  }
 ],
 "metadata": {
  "kernelspec": {
   "display_name": "Python 3.7.13 ('codebert')",
   "language": "python",
   "name": "python3"
  },
  "language_info": {
   "codemirror_mode": {
    "name": "ipython",
    "version": 3
   },
   "file_extension": ".py",
   "mimetype": "text/x-python",
   "name": "python",
   "nbconvert_exporter": "python",
   "pygments_lexer": "ipython3",
   "version": "3.7.13"
  },
  "orig_nbformat": 4,
  "vscode": {
   "interpreter": {
    "hash": "23f55371fe6a3bc989ef5682b29e7895456b08d287f3d8049f420667cb23d85a"
   }
  }
 },
 "nbformat": 4,
 "nbformat_minor": 2
}
