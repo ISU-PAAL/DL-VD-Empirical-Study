{
 "cells": [
  {
   "cell_type": "code",
   "execution_count": 1,
   "metadata": {},
   "outputs": [],
   "source": [
    "import pandas as pd"
   ]
  },
  {
   "cell_type": "code",
   "execution_count": 2,
   "metadata": {},
   "outputs": [
    {
     "name": "stderr",
     "output_type": "stream",
     "text": [
      "/Users/mahbubcseju/opt/anaconda3/envs/codebert/lib/python3.7/site-packages/IPython/core/interactiveshell.py:3553: DtypeWarning: Columns (20,22,23,27,28,29) have mixed types.Specify dtype option on import or set low_memory=False.\n",
      "  exec(code_obj, self.user_global_ns, self.user_ns)\n"
     ]
    }
   ],
   "source": [
    "df_msr = pd.read_csv('../MSR/MSR_data_cleaned.csv')"
   ]
  },
  {
   "cell_type": "code",
   "execution_count": 3,
   "metadata": {},
   "outputs": [],
   "source": [
    "df_devign = pd.read_json('../devign/function.json')"
   ]
  },
  {
   "cell_type": "code",
   "execution_count": 4,
   "metadata": {},
   "outputs": [],
   "source": [
    "df_msr_ = []\n",
    "for index, row in df_msr.iterrows():\n",
    "    df_msr_.append(row)"
   ]
  },
  {
   "cell_type": "code",
   "execution_count": 5,
   "metadata": {},
   "outputs": [],
   "source": [
    "df_devign_ = []\n",
    "for index, row in df_devign.iterrows():\n",
    "    df_devign_.append(row)"
   ]
  },
  {
   "cell_type": "code",
   "execution_count": 6,
   "metadata": {},
   "outputs": [
    {
     "data": {
      "text/plain": [
       "Unnamed: 0                                                                      0\n",
       "Access Gained                                                                None\n",
       "Attack Origin                                                              Remote\n",
       "Authentication Required                                             Single system\n",
       "Availability                                                              Partial\n",
       "CVE ID                                                              CVE-2015-8467\n",
       "CVE Page                            https://www.cvedetails.com/cve/CVE-2015-8467/\n",
       "CWE ID                                                                    CWE-264\n",
       "Complexity                                                                 Medium\n",
       "Confidentiality                                                           Partial\n",
       "Integrity                                                                 Partial\n",
       "Known Exploits                                                                NaN\n",
       "Publish Date                                                           2015-12-29\n",
       "Score                                                                         6.0\n",
       "Summary                         The samldb_check_user_account_control_acl func...\n",
       "Update Date                                                            2016-12-30\n",
       "Vulnerability Classification                                               Bypass\n",
       "add_lines                                                                       0\n",
       "codeLink                        https://git.samba.org/?p=samba.git;a=commit;h=...\n",
       "commit_id                                b000da128b5fb519d2d3f2e7fd20e4a25b7dae7d\n",
       "commit_message                                                                NaN\n",
       "del_lines                                                                       0\n",
       "file_name                                                                     NaN\n",
       "files_changed                                                                 NaN\n",
       "func_after                      static bool check_rodc_critical_attribute(stru...\n",
       "func_before                     static bool check_rodc_critical_attribute(stru...\n",
       "lang                                                                            C\n",
       "lines_after                                                                   NaN\n",
       "lines_before                                                                  NaN\n",
       "parentID                                 a819d2b440aafa3138d95ff6e8b824da885a70e9\n",
       "patch                           @@ -1558,12 +1558,15 @@ static int samldb_chec...\n",
       "project                                                                     samba\n",
       "project_after                   https://git.samba.org/?p=samba.git;a=blob;f=so...\n",
       "project_before                  https://git.samba.org/?p=samba.git;a=blob;f=so...\n",
       "vul                                                                             0\n",
       "vul_func_with_fix               static bool check_rodc_critical_attribute(stru...\n",
       "Name: 0, dtype: object"
      ]
     },
     "execution_count": 6,
     "metadata": {},
     "output_type": "execute_result"
    }
   ],
   "source": [
    "df_msr_[0]"
   ]
  },
  {
   "cell_type": "code",
   "execution_count": 27,
   "metadata": {},
   "outputs": [],
   "source": [
    "# df = pd.read_csv('fold_0_holdout.csv')"
   ]
  },
  {
   "cell_type": "code",
   "execution_count": 28,
   "metadata": {},
   "outputs": [
    {
     "data": {
      "text/html": [
       "<div>\n",
       "<style scoped>\n",
       "    .dataframe tbody tr th:only-of-type {\n",
       "        vertical-align: middle;\n",
       "    }\n",
       "\n",
       "    .dataframe tbody tr th {\n",
       "        vertical-align: top;\n",
       "    }\n",
       "\n",
       "    .dataframe thead th {\n",
       "        text-align: right;\n",
       "    }\n",
       "</style>\n",
       "<table border=\"1\" class=\"dataframe\">\n",
       "  <thead>\n",
       "    <tr style=\"text-align: right;\">\n",
       "      <th></th>\n",
       "      <th>Unnamed: 0</th>\n",
       "      <th>dataset</th>\n",
       "      <th>example_index</th>\n",
       "      <th>project</th>\n",
       "      <th>commit_id</th>\n",
       "      <th>split</th>\n",
       "    </tr>\n",
       "  </thead>\n",
       "  <tbody>\n",
       "    <tr>\n",
       "      <th>0</th>\n",
       "      <td>37</td>\n",
       "      <td>MSR</td>\n",
       "      <td>37</td>\n",
       "      <td>php</td>\n",
       "      <td>c351b47ce85a3a147cfa801fa9f0149ab4160834</td>\n",
       "      <td>holdout</td>\n",
       "    </tr>\n",
       "    <tr>\n",
       "      <th>1</th>\n",
       "      <td>38</td>\n",
       "      <td>MSR</td>\n",
       "      <td>38</td>\n",
       "      <td>php</td>\n",
       "      <td>c351b47ce85a3a147cfa801fa9f0149ab4160834</td>\n",
       "      <td>holdout</td>\n",
       "    </tr>\n",
       "    <tr>\n",
       "      <th>2</th>\n",
       "      <td>39</td>\n",
       "      <td>MSR</td>\n",
       "      <td>39</td>\n",
       "      <td>php</td>\n",
       "      <td>c351b47ce85a3a147cfa801fa9f0149ab4160834</td>\n",
       "      <td>holdout</td>\n",
       "    </tr>\n",
       "    <tr>\n",
       "      <th>3</th>\n",
       "      <td>40</td>\n",
       "      <td>MSR</td>\n",
       "      <td>40</td>\n",
       "      <td>php</td>\n",
       "      <td>c351b47ce85a3a147cfa801fa9f0149ab4160834</td>\n",
       "      <td>holdout</td>\n",
       "    </tr>\n",
       "    <tr>\n",
       "      <th>4</th>\n",
       "      <td>41</td>\n",
       "      <td>MSR</td>\n",
       "      <td>41</td>\n",
       "      <td>php</td>\n",
       "      <td>c351b47ce85a3a147cfa801fa9f0149ab4160834</td>\n",
       "      <td>holdout</td>\n",
       "    </tr>\n",
       "    <tr>\n",
       "      <th>...</th>\n",
       "      <td>...</td>\n",
       "      <td>...</td>\n",
       "      <td>...</td>\n",
       "      <td>...</td>\n",
       "      <td>...</td>\n",
       "      <td>...</td>\n",
       "    </tr>\n",
       "    <tr>\n",
       "      <th>10026</th>\n",
       "      <td>183337</td>\n",
       "      <td>MSR</td>\n",
       "      <td>183337</td>\n",
       "      <td>redis</td>\n",
       "      <td>1eb08bcd4634ae42ec45e8284923ac048beaa4c3</td>\n",
       "      <td>holdout</td>\n",
       "    </tr>\n",
       "    <tr>\n",
       "      <th>10027</th>\n",
       "      <td>183338</td>\n",
       "      <td>MSR</td>\n",
       "      <td>183338</td>\n",
       "      <td>redis</td>\n",
       "      <td>1eb08bcd4634ae42ec45e8284923ac048beaa4c3</td>\n",
       "      <td>holdout</td>\n",
       "    </tr>\n",
       "    <tr>\n",
       "      <th>10028</th>\n",
       "      <td>183339</td>\n",
       "      <td>MSR</td>\n",
       "      <td>183339</td>\n",
       "      <td>redis</td>\n",
       "      <td>52a00201fca331217c3b4b8b634f6a0f57d6b7d3</td>\n",
       "      <td>holdout</td>\n",
       "    </tr>\n",
       "    <tr>\n",
       "      <th>10029</th>\n",
       "      <td>183348</td>\n",
       "      <td>MSR</td>\n",
       "      <td>183348</td>\n",
       "      <td>rpm</td>\n",
       "      <td>f2d3be2a8741234faaa96f5fd05fdfdc75779a79</td>\n",
       "      <td>holdout</td>\n",
       "    </tr>\n",
       "    <tr>\n",
       "      <th>10030</th>\n",
       "      <td>183349</td>\n",
       "      <td>MSR</td>\n",
       "      <td>183349</td>\n",
       "      <td>rpm</td>\n",
       "      <td>f2d3be2a8741234faaa96f5fd05fdfdc75779a79</td>\n",
       "      <td>holdout</td>\n",
       "    </tr>\n",
       "  </tbody>\n",
       "</table>\n",
       "<p>10031 rows × 6 columns</p>\n",
       "</div>"
      ],
      "text/plain": [
       "       Unnamed: 0 dataset  example_index project  \\\n",
       "0              37     MSR             37     php   \n",
       "1              38     MSR             38     php   \n",
       "2              39     MSR             39     php   \n",
       "3              40     MSR             40     php   \n",
       "4              41     MSR             41     php   \n",
       "...           ...     ...            ...     ...   \n",
       "10026      183337     MSR         183337   redis   \n",
       "10027      183338     MSR         183338   redis   \n",
       "10028      183339     MSR         183339   redis   \n",
       "10029      183348     MSR         183348     rpm   \n",
       "10030      183349     MSR         183349     rpm   \n",
       "\n",
       "                                      commit_id    split  \n",
       "0      c351b47ce85a3a147cfa801fa9f0149ab4160834  holdout  \n",
       "1      c351b47ce85a3a147cfa801fa9f0149ab4160834  holdout  \n",
       "2      c351b47ce85a3a147cfa801fa9f0149ab4160834  holdout  \n",
       "3      c351b47ce85a3a147cfa801fa9f0149ab4160834  holdout  \n",
       "4      c351b47ce85a3a147cfa801fa9f0149ab4160834  holdout  \n",
       "...                                         ...      ...  \n",
       "10026  1eb08bcd4634ae42ec45e8284923ac048beaa4c3  holdout  \n",
       "10027  1eb08bcd4634ae42ec45e8284923ac048beaa4c3  holdout  \n",
       "10028  52a00201fca331217c3b4b8b634f6a0f57d6b7d3  holdout  \n",
       "10029  f2d3be2a8741234faaa96f5fd05fdfdc75779a79  holdout  \n",
       "10030  f2d3be2a8741234faaa96f5fd05fdfdc75779a79  holdout  \n",
       "\n",
       "[10031 rows x 6 columns]"
      ]
     },
     "execution_count": 28,
     "metadata": {},
     "output_type": "execute_result"
    }
   ],
   "source": [
    "# df"
   ]
  },
  {
   "cell_type": "code",
   "execution_count": 7,
   "metadata": {},
   "outputs": [],
   "source": [
    "import json"
   ]
  },
  {
   "cell_type": "code",
   "execution_count": 8,
   "metadata": {},
   "outputs": [],
   "source": [
    "def get_ind_data(row):\n",
    "    if row['dataset'] == 'MSR':\n",
    "        return json.dumps({\n",
    "            'func': df_msr_[row['example_index']]['func_before'],\n",
    "            'target': df_msr_[row['example_index']]['vul'],\n",
    "            'dataset': row['dataset'],\n",
    "            'idx': row['example_index'],\n",
    "            'project': row['project']\n",
    "        }) +\"\\n\"\n",
    "    elif row['dataset'] == 'devign':\n",
    "        return json.dumps({\n",
    "            'func': df_devign_[row['example_index']]['func'],\n",
    "            'target': df_devign_[row['example_index']]['target'],\n",
    "            'dataset': row['dataset'],\n",
    "            'idx': row['example_index'],\n",
    "            'project': row['project']\n",
    "        }) +\"\\n\"\n",
    "    assert False"
   ]
  },
  {
   "cell_type": "code",
   "execution_count": 9,
   "metadata": {},
   "outputs": [],
   "source": [
    "def get_data(df):\n",
    "    train = []\n",
    "    test = []\n",
    "    valid = []\n",
    "    holdout = []\n",
    "    for ind, row in df.iterrows():\n",
    "        if row['split'] == 'train':\n",
    "            train.append(get_ind_data(row))\n",
    "        if row['split'] == 'test':\n",
    "            test.append(get_ind_data(row))\n",
    "        if row['split'] == 'valid':\n",
    "            valid.append(get_ind_data(row))\n",
    "        if row['split'] == 'holdout':\n",
    "            holdout.append(get_ind_data(row))\n",
    "    return train, test, valid, holdout"
   ]
  },
  {
   "cell_type": "code",
   "execution_count": 10,
   "metadata": {},
   "outputs": [],
   "source": [
    "def writejsonl(data, file_path):\n",
    "    f = open(file_path, 'w')\n",
    "    f.writelines(data)\n",
    "    f.close()"
   ]
  },
  {
   "cell_type": "code",
   "execution_count": 11,
   "metadata": {},
   "outputs": [],
   "source": [
    "import os\n",
    "import shutil"
   ]
  },
  {
   "cell_type": "code",
   "execution_count": 16,
   "metadata": {},
   "outputs": [],
   "source": [
    "for file in os.listdir(\".\"):\n",
    "    if file[-3:] == 'csv':\n",
    "        folder = file[:-4]\n",
    "        if not os.path.exists(folder):\n",
    "            os.mkdir(folder)\n",
    "        else:\n",
    "            shutil.rmtree(folder)\n",
    "            os.mkdir(folder)\n",
    "        dataset = pd.read_csv(file)\n",
    "        result = get_data(dataset)\n",
    "        writejsonl(result[0], '{}/train.jsonl'.format(folder))\n",
    "        writejsonl(result[1], '{}/test.jsonl'.format(folder))\n",
    "        writejsonl(result[2], '{}/valid.jsonl'.format(folder))\n",
    "        writejsonl(result[3], '{}/holdout.jsonl'.format(folder))"
   ]
  },
  {
   "cell_type": "code",
   "execution_count": 64,
   "metadata": {},
   "outputs": [],
   "source": [
    "# for i in range(5):\n",
    "#     dataset = pd.read_csv('fold_{}_dataset.csv'.format(i))\n",
    "#     holdout = pd.read_csv('fold_{}_holdout.csv'.format(i))\n",
    "#     result = [[], [], [], []]\n",
    "#     res = get_data(dataset)\n",
    "#     for j in range(4):\n",
    "#         result[j] += res[j]\n",
    "#     res = get_data(holdout)\n",
    "#     for j in range(4):\n",
    "#         result[j] += res[j]\n",
    "#     if not os.path.exists('fold_{}'.format(i)):\n",
    "#         os.mkdir('fold_{}'.format(i))\n",
    "#     else:\n",
    "#         shutil.rmtree('fold_{}'.format(i))\n",
    "#         os.mkdir('fold_{}'.format(i))\n",
    "#     writejsonl(result[0], 'fold_{}/train.jsonl'.format(i))\n",
    "#     writejsonl(result[1], 'fold_{}/test.jsonl'.format(i))\n",
    "#     writejsonl(result[2], 'fold_{}/valid.jsonl'.format(i))\n",
    "#     writejsonl(result[3], 'fold_{}/holdout.jsonl'.format(i))\n",
    "    \n",
    "    "
   ]
  },
  {
   "cell_type": "code",
   "execution_count": null,
   "metadata": {},
   "outputs": [],
   "source": []
  }
 ],
 "metadata": {
  "kernelspec": {
   "display_name": "Python 3.7.13 ('codebert')",
   "language": "python",
   "name": "python3"
  },
  "language_info": {
   "codemirror_mode": {
    "name": "ipython",
    "version": 3
   },
   "file_extension": ".py",
   "mimetype": "text/x-python",
   "name": "python",
   "nbconvert_exporter": "python",
   "pygments_lexer": "ipython3",
   "version": "3.7.13"
  },
  "orig_nbformat": 4,
  "vscode": {
   "interpreter": {
    "hash": "23f55371fe6a3bc989ef5682b29e7895456b08d287f3d8049f420667cb23d85a"
   }
  }
 },
 "nbformat": 4,
 "nbformat_minor": 2
}
